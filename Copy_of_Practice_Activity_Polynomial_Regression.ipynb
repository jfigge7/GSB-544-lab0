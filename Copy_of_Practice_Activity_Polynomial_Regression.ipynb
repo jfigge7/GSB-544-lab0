{
  "cells": [
    {
      "cell_type": "markdown",
      "metadata": {
        "id": "M3NFTx_UIZjO"
      },
      "source": [
        "# Palmer Penguins Modeling\n",
        "\n",
        "Import the Palmer Penguins dataset and print out the first few rows.\n",
        "\n",
        "Suppose we want to predict `bill_depth_mm` using the other variables in the dataset.\n",
        "\n",
        "Which variables would we need to **dummify**?"
      ]
    },
    {
      "cell_type": "code",
      "execution_count": 2,
      "metadata": {
        "colab": {
          "base_uri": "https://localhost:8080/"
        },
        "id": "dDD69T-VISjB",
        "outputId": "02c42e4a-338c-4c4b-9b9e-60d28ff1a128"
      },
      "outputs": [
        {
          "name": "stdout",
          "output_type": "stream",
          "text": [
            "Collecting palmerpenguins\n",
            "  Downloading palmerpenguins-0.1.4-py3-none-any.whl.metadata (2.0 kB)\n",
            "Requirement already satisfied: pandas in /usr/local/lib/python3.12/dist-packages (from palmerpenguins) (2.2.2)\n",
            "Requirement already satisfied: numpy in /usr/local/lib/python3.12/dist-packages (from palmerpenguins) (2.0.2)\n",
            "Requirement already satisfied: python-dateutil>=2.8.2 in /usr/local/lib/python3.12/dist-packages (from pandas->palmerpenguins) (2.9.0.post0)\n",
            "Requirement already satisfied: pytz>=2020.1 in /usr/local/lib/python3.12/dist-packages (from pandas->palmerpenguins) (2025.2)\n",
            "Requirement already satisfied: tzdata>=2022.7 in /usr/local/lib/python3.12/dist-packages (from pandas->palmerpenguins) (2025.2)\n",
            "Requirement already satisfied: six>=1.5 in /usr/local/lib/python3.12/dist-packages (from python-dateutil>=2.8.2->pandas->palmerpenguins) (1.17.0)\n",
            "Downloading palmerpenguins-0.1.4-py3-none-any.whl (17 kB)\n",
            "Installing collected packages: palmerpenguins\n",
            "Successfully installed palmerpenguins-0.1.4\n"
          ]
        }
      ],
      "source": [
        "# !pip install palmerpenguins\n",
        "from palmerpenguins import load_penguins\n",
        "import pandas as pd\n",
        "import numpy as np"
      ]
    },
    {
      "cell_type": "code",
      "execution_count": 3,
      "metadata": {
        "id": "M0MilmnAzY7B"
      },
      "outputs": [],
      "source": [
        "df = load_penguins()"
      ]
    },
    {
      "cell_type": "code",
      "execution_count": 4,
      "metadata": {
        "id": "Feb7R1dJzcyQ"
      },
      "outputs": [],
      "source": [
        "df = df.dropna()"
      ]
    },
    {
      "cell_type": "code",
      "execution_count": 5,
      "metadata": {
        "id": "aCV-hh570pmP"
      },
      "outputs": [],
      "source": [
        "df = df.copy()"
      ]
    },
    {
      "cell_type": "markdown",
      "metadata": {
        "id": "hEwiWESpJLwi"
      },
      "source": [
        "Let's use `bill_length_mm` to predict `bill_depth_mm`. Prepare your data and fit the following models on the entire dataset:\n",
        "\n",
        "* Simple linear regression (e.g. straight-line) model\n",
        "* Quadratic (degree 2 polynomial) model\n",
        "* Cubic (degree 3 polynomial) model\n",
        "* Degree 10 polynomial model\n",
        "\n",
        "Make predictions for each model and plot your fitted models on the scatterplot."
      ]
    },
    {
      "cell_type": "code",
      "execution_count": 6,
      "metadata": {
        "id": "tjuOvH63LQ2b"
      },
      "outputs": [],
      "source": [
        "from sklearn.linear_model import LinearRegression"
      ]
    },
    {
      "cell_type": "code",
      "execution_count": 7,
      "metadata": {
        "id": "8lEMlcN40AgU"
      },
      "outputs": [],
      "source": [
        "df[\"blm_sq\"] = df[\"bill_length_mm\"] ** 2"
      ]
    },
    {
      "cell_type": "code",
      "execution_count": 8,
      "metadata": {
        "id": "LEQ7pLnF0K5p"
      },
      "outputs": [],
      "source": [
        "df[\"blm_cube\"] = df['bill_length_mm'] ** 3"
      ]
    },
    {
      "cell_type": "code",
      "execution_count": 9,
      "metadata": {
        "id": "FzOQe5B52Cft"
      },
      "outputs": [],
      "source": [
        "for i in range(4, 11):\n",
        "  df[f\"{i}\"] = df['bill_length_mm'] ** i"
      ]
    },
    {
      "cell_type": "code",
      "execution_count": 10,
      "metadata": {
        "id": "LEznITfP0QNk"
      },
      "outputs": [],
      "source": [
        "lin = LinearRegression()\n",
        "square = LinearRegression()\n",
        "cube = LinearRegression()\n",
        "ten = LinearRegression()"
      ]
    },
    {
      "cell_type": "code",
      "execution_count": 11,
      "metadata": {
        "id": "b_HvSC5r0Tob"
      },
      "outputs": [],
      "source": [
        "lin = lin.fit(X=df[['bill_length_mm']],\n",
        "                y=df['bill_depth_mm'])"
      ]
    },
    {
      "cell_type": "code",
      "execution_count": 15,
      "metadata": {
        "id": "lvs6MJ0101W1"
      },
      "outputs": [],
      "source": [
        "square = square.fit(X=df[['bill_length_mm', 'blm_sq']],\n",
        "                   y=df['bill_depth_mm'])"
      ]
    },
    {
      "cell_type": "code",
      "execution_count": 16,
      "metadata": {
        "id": "m1zA3wRN0_38"
      },
      "outputs": [],
      "source": [
        "cube = cube.fit(X=df[['bill_length_mm', 'blm_sq', 'blm_cube']],\n",
        "                   y=df['bill_depth_mm'])"
      ]
    },
    {
      "cell_type": "code",
      "execution_count": 17,
      "metadata": {
        "id": "ScBmNkhl2URZ"
      },
      "outputs": [],
      "source": [
        "deg_10 = ten.fit(X=df[['bill_length_mm', 'blm_sq', 'blm_cube', '4', '5', '6', '7', '8', '9', '10']],\n",
        "                   y=df['bill_depth_mm'])"
      ]
    },
    {
      "cell_type": "code",
      "execution_count": 20,
      "metadata": {
        "id": "cRcOvQhV2eiB"
      },
      "outputs": [],
      "source": [
        "scale = pd.DataFrame()\n",
        "scale['bill_length_mm'] = np.linspace(min(df['bill_length_mm']), max(df['bill_length_mm']), 1000)\n",
        "scale['blm_sq'] = scale['bill_length_mm'] ** 2\n",
        "scale['blm_cube'] = scale['bill_length_mm'] ** 3\n",
        "for i in range(4, 11):\n",
        "  scale[f'{i}'] = scale['bill_length_mm'] ** i"
      ]
    },
    {
      "cell_type": "code",
      "execution_count": 76,
      "metadata": {
        "id": "PymVV3CB3Xxx"
      },
      "outputs": [],
      "source": [
        "y_lin_ = pd.Series(\n",
        "    lin.predict(scale[['bill_length_mm']]),\n",
        "    index=scale[\"bill_length_mm\"]\n",
        ")"
      ]
    },
    {
      "cell_type": "code",
      "execution_count": 77,
      "metadata": {
        "id": "3YTjVU--6ILn"
      },
      "outputs": [],
      "source": [
        "y_sq_ = pd.Series(\n",
        "    square.predict(scale[['bill_length_mm', 'blm_sq']]),\n",
        "    index=scale['bill_length_mm']\n",
        ")"
      ]
    },
    {
      "cell_type": "code",
      "execution_count": 78,
      "metadata": {
        "id": "uGt5crsM7G3I"
      },
      "outputs": [],
      "source": [
        "y_cube_ = pd.Series(\n",
        "    cube.predict(scale[['bill_length_mm', 'blm_sq', 'blm_cube']]),\n",
        "    index=scale['bill_length_mm']\n",
        ")"
      ]
    },
    {
      "cell_type": "code",
      "execution_count": 79,
      "metadata": {
        "id": "L78u55PQ7KCK"
      },
      "outputs": [],
      "source": [
        "y_ten_ = pd.Series(\n",
        "    ten.predict(scale[['bill_length_mm', 'blm_sq', 'blm_cube', '4', '5', '6', '7', '8', '9', '10']]),\n",
        "    index=scale['bill_length_mm']\n",
        ")"
      ]
    },
    {
      "cell_type": "code",
      "execution_count": 80,
      "metadata": {
        "colab": {
          "base_uri": "https://localhost:8080/",
          "height": 467
        },
        "id": "DjdB_-7T5tK5",
        "outputId": "c1f86da5-a77b-44a3-c0d1-86c1eed1adbd"
      },
      "outputs": [
        {
          "data": {
            "text/plain": [
              "<Axes: xlabel='bill_length_mm', ylabel='bill_depth_mm'>"
            ]
          },
          "execution_count": 80,
          "metadata": {},
          "output_type": "execute_result"
        },
        {
          "data": {
            "image/png": "[encoded data removed]",
            "text/plain": [
              "<Figure size 640x480 with 1 Axes>"
            ]
          },
          "metadata": {},
          "output_type": "display_data"
        }
      ],
      "source": [
        "df.plot.scatter(x=\"bill_length_mm\", y=\"bill_depth_mm\")\n",
        "y_lin_.plot.line(c = \"orange\")\n",
        "y_sq_.plot.line(c = \"blue\")\n",
        "y_cube_.plot.line(c = \"red\")\n",
        "y_ten_.plot.line(c = \"purple\")"
      ]
    },
    {
      "cell_type": "markdown",
      "metadata": {
        "id": "Ph3lo8ExLSTG"
      },
      "source": [
        "* Are any of the models above underfitting the data? If so, which ones and how can you tell?\n",
        "* Are any of thhe models above overfitting the data? If so, which ones and how can you tell?\n",
        "* Which of the above models do you think fits the data best and why?"
      ]
    },
    {
      "cell_type": "code",
      "execution_count": 21,
      "metadata": {
        "colab": {
          "base_uri": "https://localhost:8080/"
        },
        "id": "lu1IfQWz-jOZ",
        "outputId": "56463f9c-78a6-4acd-c666-ca5bbb603061"
      },
      "outputs": [
        {
          "data": {
            "text/plain": [
              "0.0522696813966369"
            ]
          },
          "execution_count": 21,
          "metadata": {},
          "output_type": "execute_result"
        }
      ],
      "source": [
        "lin.score(df[['bill_length_mm']], df['bill_depth_mm'])\n"
      ]
    },
    {
      "cell_type": "code",
      "execution_count": 22,
      "metadata": {
        "colab": {
          "base_uri": "https://localhost:8080/"
        },
        "id": "3CeChGwcVemY",
        "outputId": "b36d2d20-19d0-4f46-9233-cfc0a15741bd"
      },
      "outputs": [
        {
          "data": {
            "text/plain": [
              "0.10953762597109384"
            ]
          },
          "execution_count": 22,
          "metadata": {},
          "output_type": "execute_result"
        }
      ],
      "source": [
        "square.score(df[['bill_length_mm', 'blm_sq']], df['bill_depth_mm'])"
      ]
    },
    {
      "cell_type": "code",
      "execution_count": 19,
      "metadata": {
        "colab": {
          "base_uri": "https://localhost:8080/"
        },
        "id": "0FI5vjIkVfI4",
        "outputId": "f46fe9b5-64b2-4475-d887-a86c1f1589b9"
      },
      "outputs": [
        {
          "data": {
            "text/plain": [
              "0.13703274818584865"
            ]
          },
          "execution_count": 19,
          "metadata": {},
          "output_type": "execute_result"
        }
      ],
      "source": [
        "cube.score(df[['bill_length_mm', 'blm_sq', 'blm_cube']], df['bill_depth_mm'])"
      ]
    },
    {
      "cell_type": "code",
      "execution_count": 20,
      "metadata": {
        "colab": {
          "base_uri": "https://localhost:8080/"
        },
        "id": "PsM_yGC4Vfby",
        "outputId": "f0bde4fc-0c25-4981-d000-0cedf4094cc9"
      },
      "outputs": [
        {
          "data": {
            "text/plain": [
              "0.26973160008086916"
            ]
          },
          "execution_count": 20,
          "metadata": {},
          "output_type": "execute_result"
        }
      ],
      "source": [
        "ten.score(df[['bill_length_mm', 'blm_sq', 'blm_cube', '4', '5', '6', '7', '8', '9', '10']], df['bill_depth_mm'])"
      ]
    },
    {
      "cell_type": "markdown",
      "metadata": {
        "id": "JV1bATn4Lkq8"
      },
      "source": [
        "Obviously, the R^2 value goes up as the degree of the polynomial increases (LinearRegression() doesn't have an adjusted R^2 method).  But visually, none of the polynomials fit the data that well.  It looks like there are two different groups of data in the scatter plot, but the combination of the groups reduces the strength of the relationship between bill length and bill depth.  Of course, the degree 10 polynomial looks the most overfitted, especially after a bill length of 55 mm, since there are not a lot of observations, but the polynomial equation shifts greatly to account for the outliers."
      ]
    },
    {
      "cell_type": "markdown",
      "metadata": {
        "id": "1Wl940fDWtkG"
      },
      "source": [
        "Despite the overfitting at the outliers, the degree 10 polynomial fits the data best, because it is able to move its prediction to account for the 2 different groups, although it overfits the data in areas where it must extrapolate, such as below 35 mm and above 55 mm."
      ]
    }
  ],
  "metadata": {
    "colab": {
      "provenance": []
    },
    "kernelspec": {
      "display_name": "Python 3",
      "name": "python3"
    },
    "language_info": {
      "name": "python"
    }
  },
  "nbformat": 4,
  "nbformat_minor": 0
}
